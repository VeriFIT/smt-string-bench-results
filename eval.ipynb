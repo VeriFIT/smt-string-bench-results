{
 "cells": [
  {
   "cell_type": "code",
   "execution_count": 1,
   "metadata": {},
   "outputs": [],
   "source": [
    "# these two things reimport modules if they change (needed for changing eval_functions)\n",
    "%reload_ext autoreload\n",
    "%autoreload 2"
   ]
  },
  {
   "cell_type": "code",
   "execution_count": 6,
   "metadata": {},
   "outputs": [],
   "source": [
    "import importlib\n",
    "import eval_functions\n",
    "importlib.reload(eval_functions)\n",
    "from eval_functions import *\n",
    "import pandas as pd\n",
    "from enum import Enum\n",
    "import numpy as n\n",
    "\n",
    "# make tables interactive\n",
    "from itables import init_notebook_mode\n",
    "import itables.options as opt\n",
    "init_notebook_mode(all_interactive=True, connected=True)\n",
    "opt.maxBytes=0"
   ]
  },
  {
   "cell_type": "code",
   "execution_count": 3,
   "metadata": {},
   "outputs": [],
   "source": [
    "NOODLER_VERSION=\"\"\n",
    "OLD_NOODLER_VERSION=\"2e63d1e-17ffaf6\"\n",
    "if NOODLER_VERSION == \"\":\n",
    "    NOODLER_VERSION = OLD_NOODLER_VERSION\n",
    "NOODLER=f\"z3-noodler-{NOODLER_VERSION}\"\n",
    "NOODLER_STATS=f\"z3-noodler-stats-{NOODLER_VERSION}\"\n",
    "NOODLER_MODEL=f\"z3-noodler-model-{NOODLER_VERSION}\"\n",
    "NOODLER_CHECK_MODEL=f\"check-model-{NOODLER_VERSION}\"\n",
    "OLD_NOODLER=f\"z3-noodler-{OLD_NOODLER_VERSION}\"\n",
    "OLD_NOODLER_MODEL=f\"z3-noodler-model-{OLD_NOODLER_VERSION}\"\n",
    "CVC5=\"cvc5-1.2.0\"\n",
    "CVC5_MODEL=\"cvc5-model-1.2.0\"\n",
    "Z3=\"z3-4.13.0\"\n",
    "Z3_MODEL=\"z3-model-4.13.0\"\n",
    "Z3STR4=\"z3str4\"\n",
    "OSTRICH=\"ostrich-1.4pre\"\n",
    "Z3STR3RE=\"z3strRE\"\n",
    "Z3TRAU=\"z3-trau-1.1\"\n",
    "Z3ALPHA=\"z3-alpha-smtcomp2024\"\n",
    "\n",
    "if NOODLER == \"\":\n",
    "  NOODLER = OLD_NOODLER\n",
    "\n",
    "TOOLS = list(dict.fromkeys([ # small hack so that we get list of unique values (i.e. a set, but also in the given order; see https://stackoverflow.com/questions/1653970/does-python-have-an-ordered-set)\n",
    "    NOODLER,\n",
    "    OLD_NOODLER,\n",
    "    CVC5,\n",
    "    Z3,\n",
    "    NOODLER_MODEL,\n",
    "    NOODLER_STATS,\n",
    "    OLD_NOODLER_MODEL,\n",
    "    CVC5_MODEL,\n",
    "    Z3_MODEL,\n",
    "    # NOODLER_CHECK_MODEL,\n",
    "    # Z3STR4,\n",
    "    # Z3ALPHA,\n",
    "    # OSTRICH,\n",
    "    # Z3STR3RE,\n",
    "    # Z3TRAU,\n",
    "\n",
    "    # you can add more tools here directly if needed\n",
    "]))\n",
    "\n",
    "VBS = [\n",
    "    # [Z3, CVC5],\n",
    "    # [NOODLER, CVC5],\n",
    "    # [NOODLER, Z3],\n",
    "    # [NOODLER, Z3, CVC5],\n",
    "]\n",
    "\n",
    "\n",
    "bench_selection = (\n",
    "  # Select one:\n",
    "    \"NORMAL\"\n",
    "    # \"INT_CONVS\"\n",
    "    # \"QF_S\"\n",
    "    # \"QF_SLIA\"\n",
    "    # \"QF_SNIA\"\n",
    "    # \"ZALIGVINDER\"\n",
    "    # \"REGEX\"\n",
    ")\n",
    "\n",
    "if bench_selection == \"NORMAL\":\n",
    "  BENCHES = [\n",
    "      \"sygus_qgen\",\n",
    "      \"denghang\",\n",
    "      \"automatark\",\n",
    "      \"stringfuzz\",\n",
    "      \"redos\",\n",
    "\n",
    "      \"norn\",\n",
    "      \"slog\",\n",
    "      \"slent\",\n",
    "      \"omark\",\n",
    "      \"kepler\",\n",
    "      \"woorpje\",\n",
    "      \"webapp\",\n",
    "      \"kaluza\",\n",
    "\n",
    "      \"transducer_plus\",\n",
    "      \"leetcode\",\n",
    "      \"str_small_rw\",\n",
    "      \"pyex\",\n",
    "      \"full_str_int\",\n",
    "\n",
    "      \"snia\",\n",
    "      ]\n",
    "elif bench_selection == \"INT_CONVS\":\n",
    "  # Only benchmarks with to_int/from_int\n",
    "  BENCHES = [\n",
    "      \"stringfuzz\",\n",
    "      \"str_small_rw\",\n",
    "      \"full_str_int\",\n",
    "  ]\n",
    "elif bench_selection == \"QF_S\":\n",
    "  BENCHES = [\n",
    "      \"sygus_qgen\",\n",
    "      \"automatark\",\n",
    "\n",
    "      \"slog\",\n",
    "      \"woorpje\",\n",
    "  ]\n",
    "elif bench_selection == \"QF_SLIA\":\n",
    "  BENCHES = [\n",
    "      \"denghang\",\n",
    "      \"stringfuzz\",\n",
    "\n",
    "      \"norn\",\n",
    "      \"slent\",\n",
    "      \"transducer_plus\",\n",
    "      \"kepler\",\n",
    "      \"woorpje\",\n",
    "      \"webapp\",\n",
    "      \"kaluza\",\n",
    "      \"redos\",\n",
    "\n",
    "      \"leetcode\",\n",
    "      \"str_small_rw\",\n",
    "      \"pyex\",\n",
    "      \"full_str_int\",\n",
    "  ]\n",
    "elif bench_selection == \"QF_SNIA\":\n",
    "  BENCHES = [\n",
    "    \"snia\"\n",
    "  ]\n",
    "elif bench_selection == \"ZALIGVINDER\":\n",
    "  BENCHES = [\n",
    "    \"zaligvinder\"\n",
    "  ]\n",
    "elif bench_selection == \"REGEX\":\n",
    "  BENCHES = [\n",
    "    \"regex\"\n",
    "  ]\n",
    "\n",
    "REGEX_GROUP_NAME = \"regex\"\n",
    "EQUATIONS_GROUP_NAME = \"equations\"\n",
    "PREDICATES_GROUP_NAME = \"predicates\"\n",
    "\n",
    "BENCHMARK_TO_GROUP = {\n",
    "    \"sygus_qgen\": REGEX_GROUP_NAME,\n",
    "    \"denghang\": REGEX_GROUP_NAME,\n",
    "    \"automatark\": REGEX_GROUP_NAME,\n",
    "    \"stringfuzz\": REGEX_GROUP_NAME,\n",
    "    \"redos\": REGEX_GROUP_NAME,\n",
    "\n",
    "    \"norn\": EQUATIONS_GROUP_NAME,\n",
    "    \"slog\": EQUATIONS_GROUP_NAME,\n",
    "    \"slent\": EQUATIONS_GROUP_NAME,\n",
    "    \"omark\": EQUATIONS_GROUP_NAME,\n",
    "    \"kepler\": EQUATIONS_GROUP_NAME,\n",
    "    \"woorpje\": EQUATIONS_GROUP_NAME,\n",
    "    \"webapp\": EQUATIONS_GROUP_NAME,\n",
    "    \"kaluza\": EQUATIONS_GROUP_NAME,\n",
    "    \"snia\": EQUATIONS_GROUP_NAME,\n",
    "\n",
    "    \"transducer_plus\": PREDICATES_GROUP_NAME,\n",
    "    \"leetcode\": PREDICATES_GROUP_NAME,\n",
    "    \"str_small_rw\": PREDICATES_GROUP_NAME,\n",
    "    \"pyex\": PREDICATES_GROUP_NAME,\n",
    "    \"full_str_int\": PREDICATES_GROUP_NAME,\n",
    "}\n",
    "\n",
    "REGEX_BENCHES = [\n",
    "    \"sygus_qgen\",\n",
    "    \"denghang\",\n",
    "    \"automatark\",\n",
    "    \"stringfuzz\",\n",
    "    \"redos\",\n",
    "]\n",
    "\n",
    "EQUATIONS_BENCHES = [\n",
    "    \"norn\",\n",
    "    \"slog\",\n",
    "    \"slent\",\n",
    "    \"omark\",\n",
    "    \"kepler\",\n",
    "    \"woorpje\",\n",
    "    \"webapp\",\n",
    "    \"kaluza\",\n",
    "]\n",
    "\n",
    "PREDICATES_BENCHES = [\n",
    "    \"transducer_plus\",\n",
    "    \"leetcode\",\n",
    "    \"str_small_rw\",\n",
    "    \"pyex\",\n",
    "    \"full_str_int\",\n",
    "]\n",
    "\n",
    "BENCHES_GROUPS = {\n",
    "    \"regex\": REGEX_BENCHES,\n",
    "    \"equations\": EQUATIONS_BENCHES,\n",
    "    \"predicates\": PREDICATES_BENCHES,\n",
    "}"
   ]
  },
  {
   "cell_type": "code",
   "execution_count": 4,
   "metadata": {},
   "outputs": [],
   "source": [
    "df_all = load_benches(BENCHES, TOOLS, bench_selection)\n",
    "\n",
    "# TODO VBS are ugly for now, will fix it\n",
    "for vbs in VBS:\n",
    "  name = \"+\".join(vbs)\n",
    "  df_all = add_vbs(df_all, vbs, name)\n",
    "  TOOLS.append(name)\n",
    "  # tool_names_mapping[name] = \" + \".join([tool_names_mapping[tool] for tool in vbs])"
   ]
  },
  {
   "cell_type": "markdown",
   "metadata": {},
   "source": [
    "### Evaluation"
   ]
  },
  {
   "cell_type": "code",
   "execution_count": null,
   "metadata": {},
   "outputs": [],
   "source": [
    "print(simple_table(df_all, TOOLS, BENCHES, separately=False))\n",
    "print(simple_table(df_all, TOOLS, BENCHES, separately=True))"
   ]
  },
  {
   "cell_type": "code",
   "execution_count": 8,
   "metadata": {},
   "outputs": [],
   "source": [
    "TOOL_FOR_COMPARISON = NOODLER\n",
    "# TOOL_FOR_COMPARISON = NOODLER_MODEL\n",
    "# TOOL_FOR_COMPARISON = NOODLER_CHECK_MODEL\n",
    "# TOOL_FOR_COMPARISON ="
   ]
  },
  {
   "cell_type": "code",
   "execution_count": null,
   "metadata": {},
   "outputs": [],
   "source": [
    "cactus_plot(df_all, TOOLS, start=int(len(df_all)*0.95), height=2, width=16, put_legend_outside=False, logarithmic_y_axis=True,\n",
    "                  # tool_names=tool_names_mapping,\n",
    "                  # file_name_to_save=\"cactus\",\n",
    "                  # num_of_x_ticks=6,\n",
    "                )"
   ]
  },
  {
   "cell_type": "code",
   "execution_count": null,
   "metadata": {},
   "outputs": [],
   "source": [
    "for tool in TOOLS:\n",
    "    if tool != TOOL_FOR_COMPARISON:\n",
    "        df_all[\"benchmark_group\"] = pd.Categorical(df_all[\"benchmark\"].apply(lambda x: BENCHMARK_TO_GROUP[x]), categories=[EQUATIONS_GROUP_NAME, PREDICATES_GROUP_NAME, REGEX_GROUP_NAME], ordered=True)\n",
    "        print(scatter_plot(df_all, TOOL_FOR_COMPARISON, tool,\n",
    "                        #    xname=tool_names_mapping[NOODLER], yname=tool_names_mapping[tool],\n",
    "                        #    file_name_to_save=f\"{tool_names_mapping[tool]}_vs_{tool_names_mapping[NOODLER]}\",\n",
    "                        #    show_legend=False, transparent=True,\n",
    "                           color_column=\"benchmark_group\"\n",
    "                           ))\n"
   ]
  },
  {
   "cell_type": "markdown",
   "metadata": {},
   "source": [
    "### More detailed evaluation"
   ]
  },
  {
   "cell_type": "code",
   "execution_count": null,
   "metadata": {},
   "outputs": [],
   "source": [
    "# check if noodler does not return different result than other solvers (i.e. wrong sat/unsat)\n",
    "sanity_check(df_all, TOOL_FOR_COMPARISON, [tool for tool in TOOLS if tool!=TOOL_FOR_COMPARISON])"
   ]
  },
  {
   "cell_type": "code",
   "execution_count": null,
   "metadata": {},
   "outputs": [],
   "source": [
    "# get all formulae where noodler gives different result than sat/unsat/unknown/TO/ERR\n",
    "get_invalid(df_all, TOOL_FOR_COMPARISON)"
   ]
  },
  {
   "cell_type": "code",
   "execution_count": null,
   "metadata": {},
   "outputs": [],
   "source": [
    "get_errors(df_all, TOOL_FOR_COMPARISON)"
   ]
  },
  {
   "cell_type": "code",
   "execution_count": null,
   "metadata": {},
   "outputs": [],
   "source": [
    "get_timeouts(df_all, TOOL_FOR_COMPARISON)"
   ]
  },
  {
   "cell_type": "code",
   "execution_count": null,
   "metadata": {},
   "outputs": [],
   "source": [
    "get_unknowns(df_all, TOOL_FOR_COMPARISON)"
   ]
  },
  {
   "cell_type": "code",
   "execution_count": null,
   "metadata": {},
   "outputs": [],
   "source": [
    "get_solved(df_all, TOOL_FOR_COMPARISON)"
   ]
  },
  {
   "cell_type": "code",
   "execution_count": null,
   "metadata": {},
   "outputs": [],
   "source": [
    "get_sat(df_all, TOOL_FOR_COMPARISON)"
   ]
  },
  {
   "cell_type": "code",
   "execution_count": null,
   "metadata": {},
   "outputs": [],
   "source": [
    "get_unsat(df_all, TOOL_FOR_COMPARISON)"
   ]
  },
  {
   "cell_type": "markdown",
   "metadata": {},
   "source": [
    "### TODO: For papers (tables and figures with nicer names or something) "
   ]
  },
  {
   "cell_type": "code",
   "execution_count": 40,
   "metadata": {},
   "outputs": [],
   "source": [
    "tool_names_mapping = {\n",
    "    NOODLER : \"Z3-Noodler\",\n",
    "    NOODLER_MODEL : \"Z3-Noodlerᴹ\",\n",
    "    CVC5 : \"cvc5\",\n",
    "    CVC5_MODEL : \"cvc5ᴹ\",\n",
    "    Z3 : \"Z3\",\n",
    "    Z3_MODEL : \"Z3ᴹ\",\n",
    "    Z3STR4 : \"Z3stsr4\",\n",
    "    OSTRICH : \"OSTRICH\",\n",
    "    Z3STR3RE : \"Z3str3RE\",\n",
    "    Z3TRAU : \"Z3-Trau\",\n",
    "    OLD_NOODLER : \"Z3-Noodler\",\n",
    "}\n",
    "\n",
    "tool_latex_mapping = {\n",
    "    NOODLER : \"\\\\ziiinoodler\",\n",
    "    CVC5 : \"\\\\cvcv\",\n",
    "    Z3 : \"\\\\ziii\",\n",
    "    NOODLER_MODEL : \"\\\\ziiinoodlermodel\",\n",
    "    CVC5_MODEL : \"\\\\cvcvmodel\",\n",
    "    Z3_MODEL : \"\\\\ziiimodel\",\n",
    "    Z3STR4 : \"\\\\ziiistriv\",\n",
    "    OSTRICH : \"\\\\ostrich\",\n",
    "    Z3STR3RE : \"\\\\ziiistriiire\",\n",
    "    Z3TRAU : \"\\\\ziiitrau\",\n",
    "    # OLD_NOODLER : \"\\\\ziiinoodlerold\",\n",
    "}\n",
    "\n",
    "# TODO add table generation for latex"
   ]
  },
  {
   "cell_type": "code",
   "execution_count": 75,
   "metadata": {},
   "outputs": [],
   "source": [
    "df_solved_time = df_all.copy()\n",
    "\n",
    "df_solved_time.replace({\"benchmark\": {\"snia\": \"kaluza\"}})\n",
    "\n",
    "result_columns = []\n",
    "for column in df_solved_time.columns:\n",
    "    if column.endswith(\"-result\"):\n",
    "        result_columns.append(column)\n",
    "replace = {}\n",
    "for result_column in result_columns:\n",
    "    replace[result_column] = {\"sat\": 1, \"unsat\": 1, \"unknown\": 0, \"TO\": 0, \"ERR\": 0, \"unsupported\": 0}\n",
    "df_solved_time.replace(replace, inplace=True)\n",
    "\n",
    "for column in df_solved_time.columns:\n",
    "    if column.endswith(\"-result\"):\n",
    "        df_solved_time[column].astype(\"Int64\")\n",
    "df_solved_time.drop(columns=[\"name\"], inplace=True)\n",
    "df_solved_time = df_solved_time[[ \\\n",
    "    \"benchmark\", \\\n",
    "    f\"{NOODLER}-result\", f\"{NOODLER}-runtime\", \\\n",
    "    f\"{NOODLER_MODEL}-result\", f\"{NOODLER_MODEL}-runtime\", \\\n",
    "    f\"{CVC5}-result\", f\"{CVC5}-runtime\", \\\n",
    "    f\"{CVC5_MODEL}-result\", f\"{CVC5_MODEL}-runtime\", \\\n",
    "    f\"{Z3}-result\", f\"{Z3}-runtime\", \\\n",
    "    f\"{Z3_MODEL}-result\", f\"{Z3_MODEL}-runtime\", \\\n",
    "]]\n",
    "df_solved_time = df_solved_time.groupby(\"benchmark\").sum()\n",
    "\n",
    "\n",
    "df_solved_time = df_solved_time.transpose()\n",
    "concat_rows = []\n",
    "for index, _ in df_solved_time.iterrows():\n",
    "    if not index.endswith(\"-result\"):\n",
    "        continue\n",
    "\n",
    "    index_result_name = index\n",
    "    index_runtime_name = index_result_name.replace(\"-result\", \"-runtime\")\n",
    "    procedure_name = index_result_name.replace(\"-result\", \"\")\n",
    "    result_row = df_solved_time.loc[[index_result_name]]\n",
    "    runtime_row = df_solved_time.loc[[index_runtime_name]]\n",
    "\n",
    "    concat_row = [procedure_name]\n",
    "    values_result = list(result_row.values)\n",
    "    values_runtime = list(runtime_row.values)\n",
    "    for val_result, val_runtime in zip(values_result, values_runtime):\n",
    "        for val_result, val_runtime in zip(val_result, val_runtime):\n",
    "            concat_row += [val_result, val_runtime]\n",
    "\n",
    "    concat_rows.append(concat_row)\n",
    "\n",
    "columns = [\"tool\"]\n",
    "for column in df_solved_time.keys():\n",
    "    columns.append(f\"{column}-result\")\n",
    "    columns.append(f\"{column}-runtime\")\n",
    "df_concat_rows = pd.DataFrame(concat_rows, columns=columns)\n",
    "df_concat_rows.set_index(\"tool\", inplace=True)\n",
    "benches = []\n",
    "for bench in BENCHES:\n",
    "    benches.append(f\"{bench}-result\")\n",
    "    benches.append(f\"{bench}-runtime\")\n",
    "df_concat_rows[benches]\n",
    "df_concat_rows_regex_predicates = df_concat_rows[[\n",
    "    \"sygus_qgen-result\", \"sygus_qgen-runtime\",\n",
    "    \"denghang-result\", \"denghang-runtime\",\n",
    "    \"automatark-result\", \"automatark-runtime\",\n",
    "    \"stringfuzz-result\", \"stringfuzz-runtime\",\n",
    "    \"redos-result\", \"redos-runtime\",\n",
    "\n",
    "    \"leetcode-result\", \"leetcode-runtime\",\n",
    "    \"str_small_rw-result\", \"str_small_rw-runtime\",\n",
    "    \"pyex-result\", \"pyex-runtime\",\n",
    "    \"full_str_int-result\", \"full_str_int-runtime\",  \n",
    "]]\n",
    "\n",
    "df_concat_rows_equations = df_concat_rows[[\n",
    "    \"norn-result\", \"norn-runtime\",\n",
    "    \"slog-result\", \"slog-runtime\",\n",
    "    \"slent-result\", \"slent-runtime\",\n",
    "    \"omark-result\", \"omark-runtime\",\n",
    "    \"kepler-result\", \"kepler-runtime\",\n",
    "    \"woorpje-result\", \"woorpje-runtime\",\n",
    "    \"webapp-result\", \"webapp-runtime\",\n",
    "    \"kaluza-result\", \"kaluza-runtime\",\n",
    "]]\n",
    "write_latex_table_body(df_concat_rows_regex_predicates, \"sum_solved_result_per_tool_for_benches_regex_predicates.tex\", benchmark_to_latex=tool_latex_mapping)\n",
    "write_latex_table_body(df_concat_rows_equations, \"sum_solved_result_per_tool_for_benches_equations.tex\", benchmark_to_latex=tool_latex_mapping)"
   ]
  },
  {
   "cell_type": "markdown",
   "metadata": {},
   "source": [
    "# Noodler Statistics"
   ]
  },
  {
   "cell_type": "code",
   "execution_count": null,
   "metadata": {},
   "outputs": [],
   "source": [
    "order = []\n",
    "for key in BENCHMARK_TO_GROUP.keys():\n",
    "    if key not in order:\n",
    "        order.append(key)\n",
    "for value in BENCHMARK_TO_GROUP.values():\n",
    "    if value not in order:\n",
    "        order.append(value)\n",
    "df_stats, df_stats_zeroed_nans = get_stats_dfs(df_all, NOODLER_STATS, order)\n",
    "df_stats_groups = group_to_benchmark_groups(df_stats, BENCHMARK_TO_GROUP, order)\n",
    "df_stats_groups_zeroed_nans = group_to_benchmark_groups(df_stats_zeroed_nans, BENCHMARK_TO_GROUP, order)"
   ]
  },
  {
   "cell_type": "code",
   "execution_count": null,
   "metadata": {},
   "outputs": [],
   "source": [
    "df_stats"
   ]
  },
  {
   "cell_type": "code",
   "execution_count": null,
   "metadata": {},
   "outputs": [],
   "source": [
    "df_stats_groups"
   ]
  },
  {
   "cell_type": "code",
   "execution_count": null,
   "metadata": {},
   "outputs": [],
   "source": [
    "df_stats_zeroed_nans"
   ]
  },
  {
   "cell_type": "code",
   "execution_count": null,
   "metadata": {},
   "outputs": [],
   "source": [
    "get_stats_grouped_by_benchmark(df_stats_zeroed_nans, NOODLER_STATS)"
   ]
  },
  {
   "cell_type": "code",
   "execution_count": null,
   "metadata": {},
   "outputs": [],
   "source": [
    "get_stats_grouped_by_benchmark(df_stats_groups_zeroed_nans, NOODLER_STATS)"
   ]
  },
  {
   "cell_type": "code",
   "execution_count": null,
   "metadata": {},
   "outputs": [],
   "source": [
    "get_stats_grouped_by_benchmark_counts(df_stats, NOODLER_STATS)"
   ]
  },
  {
   "cell_type": "code",
   "execution_count": null,
   "metadata": {},
   "outputs": [],
   "source": [
    "get_stats_grouped_by_benchmark_counts(df_stats_groups, NOODLER_STATS)"
   ]
  },
  {
   "cell_type": "code",
   "execution_count": null,
   "metadata": {},
   "outputs": [],
   "source": [
    "get_stats_total(df_stats_zeroed_nans, NOODLER_STATS, BENCHES)"
   ]
  },
  {
   "cell_type": "code",
   "execution_count": null,
   "metadata": {},
   "outputs": [],
   "source": [
    "df_stats_per_benchmark_sum = get_stats_per_benchmark_paper(df_stats_zeroed_nans)\n",
    "df_stats_per_benchmark_sum"
   ]
  },
  {
   "cell_type": "code",
   "execution_count": 262,
   "metadata": {},
   "outputs": [],
   "source": [
    "write_latex_table_body(df_stats_per_benchmark_sum, \"stats_per_benchmark.tex\")\n",
    "write_latex_table_body(df_stats_per_benchmark_sum.drop([benchmark for benchmark in df_stats_per_benchmark_sum.keys() if benchmark.endswith(\"-preprocess\")], axis='columns'), \"stats_per_benchmark_no_preprocess.tex\")\n",
    "write_latex_table_body(df_stats_per_benchmark_sum.drop([benchmark for benchmark in df_stats_per_benchmark_sum.keys() if benchmark.endswith(\"-preprocess\")], axis='columns'), \"stats_per_benchmark_no_preprocess_percents.tex\", float_format=\"{:.2f}\\\\,\\\\%\")"
   ]
  },
  {
   "cell_type": "code",
   "execution_count": null,
   "metadata": {},
   "outputs": [],
   "source": [
    "df_stats_per_group_sum = get_stats_per_benchmark_paper(df_stats_groups_zeroed_nans)\n",
    "df_stats_per_group_sum"
   ]
  },
  {
   "cell_type": "code",
   "execution_count": 264,
   "metadata": {},
   "outputs": [],
   "source": [
    "write_latex_table_body(df_stats_per_group_sum, \"stats_per_group.tex\")\n",
    "write_latex_table_body(df_stats_per_group_sum.drop([benchmark for benchmark in df_stats_per_group_sum.keys() if benchmark.endswith(\"-preprocess\")], axis='columns'), \"stats_per_group_no_preprocess_no_preprocess.tex\")\n",
    "write_latex_table_body(df_stats_per_benchmark_sum.drop([benchmark for benchmark in df_stats_per_benchmark_sum.keys() if benchmark.endswith(\"-preprocess\")], axis='columns'), \"stats_per_group_no_preprocess_percents.tex\", float_format=\"{:.2f}\\\\,\\\\%\")"
   ]
  },
  {
   "cell_type": "code",
   "execution_count": null,
   "metadata": {},
   "outputs": [],
   "source": [
    "df_stats_total_sum = get_stats_per_benchmark_paper(group_to_benchmark_groups(df_stats_zeroed_nans, lambda _: \"total\"))\n",
    "df_stats_total_sum"
   ]
  },
  {
   "cell_type": "code",
   "execution_count": null,
   "metadata": {},
   "outputs": [],
   "source": [
    "df_stats_groups_total = pd.concat([df_stats_per_group_sum, df_stats_total_sum])\n",
    "df_stats_groups_total = df_stats_groups_total.drop(\"noodler-final_checks\", axis='columns')\n",
    "df_stats_groups_total"
   ]
  },
  {
   "cell_type": "code",
   "execution_count": 268,
   "metadata": {},
   "outputs": [],
   "source": [
    "write_latex_table_body(df_stats_groups_total, \"stats_per_group_total.tex\")\n",
    "write_latex_table_body(df_stats_groups_total.drop([benchmark for benchmark in df_stats_per_group_sum.keys() if benchmark.endswith(\"-preprocess\")], axis='columns'), \"stats_per_group_total_no_preprocess.tex\")\n",
    "write_latex_table_body(df_stats_groups_total.drop([benchmark for benchmark in df_stats_groups_total.keys() if benchmark.endswith(\"-preprocess\")], axis='columns'), \"stats_per_group_total_no_preprocess_percents.tex\", float_format=\"{:.2f}\\\\,\\\\%\")\n",
    "\n",
    "df_stats_groups_total_transposed = df_stats_groups_total.transpose()\n",
    "\n",
    "write_latex_table_body(df_stats_groups_total_transposed, \"stats_per_group_total_transposed.tex\", format_benchmark_name=False)\n",
    "\n",
    "df_stats_groups_total_transposed = df_stats_groups_total.drop([benchmark for benchmark in df_stats_groups_total if benchmark.endswith(\"-preprocess\")], axis='columns').transpose()\n",
    "\n",
    "write_latex_table_body(df_stats_groups_total_transposed, \"stats_per_group_total_no_preprocess_transposed.tex\", format_benchmark_name=False)\n",
    "write_latex_table_body(df_stats_groups_total_transposed, \"stats_per_group_total_no_preprocess_percents_transposed.tex\", float_format=\"{:.2f}\\\\,\\\\%\", format_benchmark_name=False)\n",
    "df_stats_groups_total_transposed\n",
    "\n",
    "df_stats_groups_total_special_transposed = pd.DataFrame(columns=list(df_stats_groups_total_transposed.keys()))\n",
    "\n",
    "concat_rows = []\n",
    "for index, _ in df_stats_groups_total_transposed.iterrows():\n",
    "    if not index.endswith(\"-start\"):\n",
    "        continue\n",
    "\n",
    "    index_start_name = index\n",
    "    index_finish_name = index_start_name.replace(\"-start\", \"-finish\")\n",
    "    procedure_name = index_start_name.replace(\"-start\", \"\")\n",
    "    start_row = df_stats_groups_total_transposed.loc[[index_start_name]]\n",
    "    finish_row = df_stats_groups_total_transposed.loc[[index_finish_name]]\n",
    "\n",
    "    concat_row = [procedure_name]\n",
    "    values_start = list(start_row.values)\n",
    "    values_finish = list(finish_row.values)\n",
    "    for val_start, val_finish in zip(values_start, values_finish):\n",
    "        for val_start, val_finish in zip(val_start, val_finish):\n",
    "            concat_row += [val_start, val_finish]\n",
    "\n",
    "    concat_rows.append(concat_row)\n",
    "\n",
    "columns = [\"procedure\"]\n",
    "for column in df_stats_groups_total_transposed.keys():\n",
    "    columns.append(f\"{column}-start\")\n",
    "    columns.append(f\"{column}-finish\")\n",
    "df_concat_rows = pd.DataFrame(concat_rows, columns=columns)\n",
    "df_concat_rows.set_index(\"procedure\", inplace=True)\n",
    "write_latex_table_body(df_concat_rows, \"stats_per_group_total_special_transposed.tex\")"
   ]
  }
 ],
 "metadata": {
  "kernelspec": {
   "display_name": ".venv",
   "language": "python",
   "name": "python3"
  },
  "language_info": {
   "codemirror_mode": {
    "name": "ipython",
    "version": 3
   },
   "file_extension": ".py",
   "mimetype": "text/x-python",
   "name": "python",
   "nbconvert_exporter": "python",
   "pygments_lexer": "ipython3",
   "version": "3.11.7"
  }
 },
 "nbformat": 4,
 "nbformat_minor": 2
}
