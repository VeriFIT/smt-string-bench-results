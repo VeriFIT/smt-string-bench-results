{
 "cells": [
  {
   "cell_type": "code",
   "execution_count": null,
   "metadata": {},
   "outputs": [],
   "source": [
    "# these two things reimport modules if they change (needed for changing eval_functions)\n",
    "%reload_ext autoreload\n",
    "%autoreload 2"
   ]
  },
  {
   "cell_type": "code",
   "execution_count": null,
   "metadata": {},
   "outputs": [],
   "source": [
    "import eval_functions\n",
    "from eval_functions import *\n",
    "import pandas as pd\n",
    "\n",
    "# make tables interactive\n",
    "from itables import init_notebook_mode\n",
    "import itables.options as opt\n",
    "init_notebook_mode(all_interactive=True, connected=True)\n",
    "opt.maxBytes=0"
   ]
  },
  {
   "cell_type": "code",
   "execution_count": null,
   "metadata": {},
   "outputs": [],
   "source": [
    "NOODLER=\"\"\n",
    "CVC5=\"cvc5-1.1.2\"\n",
    "Z3=\"z3-4.13.0\"\n",
    "Z3STR4=\"z3str4\"\n",
    "OSTRICH=\"ostrich-5dd2e10ca\"\n",
    "Z3STR3RE=\"z3strRE\"\n",
    "Z3TRAU=\"z3-trau-1.1\"\n",
    "OLD_NOODLER=\"z3-noodler-ec4ce36-d95fe13\"\n",
    "\n",
    "TOOLS = [\n",
    "    NOODLER,\n",
    "    OLD_NOODLER,\n",
    "    CVC5,\n",
    "    Z3,\n",
    "    # Z3STR4,\n",
    "    OSTRICH,\n",
    "    # Z3STR3RE,\n",
    "    # Z3TRAU,\n",
    "]\n",
    "\n",
    "VBS = [\n",
    "    [Z3, CVC5],\n",
    "    [NOODLER, Z3, CVC5],\n",
    "]\n",
    "\n",
    "restrict_to_int_conversion = True\n",
    "\n",
    "if not restrict_to_int_conversion:\n",
    "  BENCHES = [\n",
    "      \"sygus_qgen\",\n",
    "      \"denghang\",\n",
    "      \"automatark\",\n",
    "      \"stringfuzz\",\n",
    "\n",
    "      \"norn\",\n",
    "      \"slog\",\n",
    "      \"slent\",\n",
    "      \"transducer_plus\",\n",
    "      \"kepler\",\n",
    "      \"woorpje\",\n",
    "      \"webapp\",\n",
    "      \"kaluza\",\n",
    "      \"redos\",\n",
    "\n",
    "      \"leetcode\",\n",
    "      \"str_small_rw\",\n",
    "      \"pyex\",\n",
    "      \"full_str_int\",\n",
    "      ]\n",
    "else:\n",
    "  # Only benchmarks with to_int/from_int\n",
    "  BENCHES = [\n",
    "      \"stringfuzz\",\n",
    "      \"str_small_rw\",\n",
    "      \"full_str_int\",\n",
    "  ]"
   ]
  },
  {
   "cell_type": "code",
   "execution_count": null,
   "metadata": {},
   "outputs": [],
   "source": [
    "dfs = dict()\n",
    "for bench in BENCHES:\n",
    "  df = read_file(bench + \"/to120.csv\")\n",
    "  df[\"benchmark\"] = bench\n",
    "  dfs[bench] = df\n",
    "\n",
    "# we select only columns with used tools\n",
    "df_all = pd.concat(dfs, ignore_index=True)[[\"benchmark\"] + [\"name\"] + [f(tool) for tool in TOOLS for f in (lambda x: x+\"-result\", lambda x: x+\"-runtime\")]]\n",
    "\n",
    "for tool in TOOLS:\n",
    "  # set runtime to 120 for nonsolved instances (unknown, TO, ERR or something else)\n",
    "  df_all.loc[(df_all[f\"{tool}-result\"] != \" sat\")&(df_all[f\"{tool}-result\"] != \" unsat\"), f\"{tool}-runtime\"] = 120\n",
    "  # runtime columns should be floats\n",
    "  df_all[f\"{tool}-runtime\"] = df_all[f\"{tool}-runtime\"].astype(float)\n",
    "\n",
    "if restrict_to_int_conversion:\n",
    "  # we select only those formulae that contain to_int/from_int\n",
    "  with open(\"int_convs_not-full_str_int.txt\") as file:\n",
    "    # fsi_not_conv is a list of formulae from full_str_int that do not contain to_int/from_int\n",
    "    fsi_not_conv = file.read().splitlines()\n",
    "  with open(\"int_convs-str_small_rw.txt\") as file:\n",
    "    # ssr_conv is a list of formulae from str_small_rw that contain to_int/from_int\n",
    "    ssr_conv = file.read().splitlines()\n",
    "  with open(\"int_convs-stringfuzz.txt\") as file:\n",
    "    # sf_conv is a list of formulae from stringfuzz that contain to_int/from_int\n",
    "    sf_conv = file.read().splitlines()\n",
    "  df_all = df_all[(df_all.benchmark != \"full_str_int/to120.csv\")|(~(df_all.name.isin(fsi_not_conv)))]\n",
    "  df_all = df_all[((df_all.benchmark != \"str_small_rw/to120.csv\")&(df_all.benchmark != \"stringfuzz/to120.csv\"))|((df_all.name.isin(ssr_conv))|(df_all.name.isin(sf_conv)))]\n",
    "\n",
    "# TODO VBS are ugly for now, will fix it\n",
    "for vbs in VBS:\n",
    "  name = \"+\".join(vbs)\n",
    "  df_all = add_vbs(df_all, vbs, name)\n",
    "  TOOLS.append(name)"
   ]
  },
  {
   "cell_type": "markdown",
   "metadata": {},
   "source": [
    "### Evaluation"
   ]
  },
  {
   "cell_type": "code",
   "execution_count": null,
   "metadata": {},
   "outputs": [],
   "source": [
    "print(simple_table(df_all, TOOLS, BENCHES,\n",
    "                   separately=True # comment this to print one table for all benchmarks together\n",
    "))\n",
    "\n",
    "print(cactus_plot(df_all, TOOLS, start=int(len(df_all)*0.9)))\n",
    "\n",
    "for tool in TOOLS:\n",
    "    if tool != NOODLER:\n",
    "        print(scatter_plot(df_all, NOODLER, tool))\n"
   ]
  },
  {
   "cell_type": "markdown",
   "metadata": {},
   "source": [
    "### More detailed evaluation"
   ]
  },
  {
   "cell_type": "code",
   "execution_count": null,
   "metadata": {},
   "outputs": [],
   "source": [
    "# check if noodler does not return different result than other solvers (i.e. wrong sat/unsat)\n",
    "sanity_check(df_all, NOODLER, [tool for tool in TOOLS if tool!=NOODLER])"
   ]
  },
  {
   "cell_type": "code",
   "execution_count": null,
   "metadata": {},
   "outputs": [],
   "source": [
    "# get all formulae where noodler gives different result than sat/unsat/unknown/TO\n",
    "res = get_errors(df_all, NOODLER)\n",
    "\n",
    "# filter out \"ERR\", usually those are MEMOUTs\n",
    "# res = res[(res[NOODLER + '-result'] != \"ERR\")]\n",
    "\n",
    "res"
   ]
  },
  {
   "cell_type": "code",
   "execution_count": null,
   "metadata": {},
   "outputs": [],
   "source": [
    "get_timeouts(df_all, NOODLER)"
   ]
  },
  {
   "cell_type": "code",
   "execution_count": null,
   "metadata": {},
   "outputs": [],
   "source": [
    "get_unknowns(df_all, NOODLER)"
   ]
  },
  {
   "cell_type": "code",
   "execution_count": null,
   "metadata": {},
   "outputs": [],
   "source": [
    "get_solved(df_all, NOODLER)"
   ]
  },
  {
   "cell_type": "markdown",
   "metadata": {},
   "source": [
    "### TODO: For papers (tables and figures with nicer names or something) "
   ]
  },
  {
   "cell_type": "code",
   "execution_count": null,
   "metadata": {},
   "outputs": [],
   "source": [
    "tool_names_mapping = {\n",
    "    NOODLER : \"Z3-Noodler\",\n",
    "    CVC5 : \"cvc5\",\n",
    "    Z3 : \"Z3\",\n",
    "    Z3STR4 : \"Z3stsr4\",\n",
    "    OSTRICH : \"OSTRICH\",\n",
    "    Z3STR3RE : \"Z3str3RE\",\n",
    "    Z3TRAU : \"Z3-Trau\",\n",
    "    OLD_NOODLER : \"Z3-Noodler*\",\n",
    "}\n",
    "\n",
    "tool_latex_mapping = {\n",
    "    NOODLER : \"\\\\ziiinoodler\",\n",
    "    CVC5 : \"\\\\cvcv\",\n",
    "    Z3 : \"\\\\ziii\",\n",
    "    Z3STR4 : \"\\\\ziiistriv\",\n",
    "    OSTRICH : \"\\\\ostrich\",\n",
    "    Z3STR3RE : \"\\\\ziiistriiire\",\n",
    "    Z3TRAU : \"\\\\ziiitrau\",\n",
    "    OLD_NOODLER : \"\\\\ziiinoodlerold\",\n",
    "}\n",
    "\n",
    "# TODO add table generation for latex"
   ]
  }
 ],
 "metadata": {
  "kernelspec": {
   "display_name": ".venv",
   "language": "python",
   "name": "python3"
  },
  "language_info": {
   "codemirror_mode": {
    "name": "ipython",
    "version": 3
   },
   "file_extension": ".py",
   "mimetype": "text/x-python",
   "name": "python",
   "nbconvert_exporter": "python",
   "pygments_lexer": "ipython3",
   "version": "3.11.7"
  }
 },
 "nbformat": 4,
 "nbformat_minor": 2
}
