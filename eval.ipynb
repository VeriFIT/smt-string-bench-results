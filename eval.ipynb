{
 "cells": [
  {
   "cell_type": "code",
   "execution_count": 3,
   "metadata": {},
   "outputs": [],
   "source": [
    "# these two things reimport modules if they change (needed for changing eval_functions)\n",
    "%reload_ext autoreload\n",
    "%autoreload 2"
   ]
  },
  {
   "cell_type": "code",
   "execution_count": 3,
   "metadata": {},
   "outputs": [],
   "source": [
    "import eval_functions\n",
    "from eval_functions import *\n",
    "import pandas as pd\n",
    "\n",
    "# make tables interactive\n",
    "from itables import init_notebook_mode\n",
    "import itables.options as opt\n",
    "init_notebook_mode(all_interactive=True, connected=True)\n",
    "opt.maxBytes=0"
   ]
  },
  {
   "cell_type": "code",
   "execution_count": 1,
   "metadata": {},
   "outputs": [],
   "source": [
    "NOODLER_VERSION=\"\"\n",
    "OLD_NOODLER_VERSION=\"4318f62-17ffaf6\"\n",
    "if NOODLER_VERSION == \"\":\n",
    "  NOODLER_VERSION = OLD_NOODLER_VERSION\n",
    "NOODLER=f\"z3-noodler-{NOODLER_VERSION}\"\n",
    "NOODLER_MODEL=f\"z3-noodler-model-{NOODLER_VERSION}\"\n",
    "NOODLER_CHECK_MODEL=f\"check-model-{NOODLER_VERSION}\"\n",
    "OLD_NOODLER=f\"z3-noodler-{OLD_NOODLER_VERSION}\"\n",
    "OLD_NOODLER_MODEL=f\"z3-noodler-model-{OLD_NOODLER_VERSION}\"\n",
    "CVC5=\"cvc5-1.2.0\"\n",
    "CVC5_MODEL=\"cvc5-model-1.2.0\"\n",
    "Z3=\"z3-4.13.0\"\n",
    "Z3_MODEL=\"z3-model-4.13.0\"\n",
    "Z3STR4=\"z3str4\"\n",
    "OSTRICH=\"ostrich-1.4pre\"\n",
    "Z3STR3RE=\"z3strRE\"\n",
    "Z3TRAU=\"z3-trau-1.1\"\n",
    "Z3ALPHA=\"z3-alpha-smtcomp2024\"\n",
    "\n",
    "if NOODLER == \"\":\n",
    "  NOODLER = OLD_NOODLER\n",
    "\n",
    "TOOLS = list(dict.fromkeys([ # small hack so that we get list of unique values (i.e. a set, but also in the given order; see https://stackoverflow.com/questions/1653970/does-python-have-an-ordered-set)\n",
    "    NOODLER,\n",
    "    OLD_NOODLER,\n",
    "\"z3-noodler-only-stabilization-4318f62-17ffaf6\",\n",
    "    CVC5,\n",
    "    Z3,\n",
    "    NOODLER_MODEL,\n",
    "    OLD_NOODLER_MODEL,\n",
    "    CVC5_MODEL,\n",
    "    Z3_MODEL,\n",
    "    # NOODLER_CHECK_MODEL,\n",
    "    # Z3STR4,\n",
    "    # Z3ALPHA,\n",
    "    # OSTRICH,\n",
    "    # Z3STR3RE,\n",
    "    # Z3TRAU,\n",
    "\n",
    "    # you can add more tools here directly if needed\n",
    "]))\n",
    "\n",
    "VBS = [\n",
    "    # [Z3, CVC5],\n",
    "    # [NOODLER, CVC5],\n",
    "    # [NOODLER, Z3],\n",
    "    # [NOODLER, Z3, CVC5],\n",
    "]\n",
    "\n",
    "\n",
    "bench_selection = (\n",
    "  # Select one:\n",
    "    \"NORMAL\"\n",
    "    # \"INT_CONVS\"\n",
    "    # \"QF_S\"\n",
    "    # \"QF_SLIA\"\n",
    "    # \"QF_SNIA\"\n",
    "    # \"ZALIGVINDER\"\n",
    "    # \"REGEX\"\n",
    ")\n",
    "\n",
    "if bench_selection == \"NORMAL\":\n",
    "  BENCHES = [\n",
    "      \"sygus_qgen\",\n",
    "      \"denghang\",\n",
    "      \"automatark\",\n",
    "      \"stringfuzz\",\n",
    "      \"redos\",\n",
    "\n",
    "      \"norn\",\n",
    "      \"slog\",\n",
    "      \"slent\",\n",
    "      \"omark\",\n",
    "      \"kepler\",\n",
    "      \"woorpje\",\n",
    "      \"webapp\",\n",
    "      \"kaluza\",\n",
    "\n",
    "      \"transducer_plus\",\n",
    "      \"leetcode\",\n",
    "      \"str_small_rw\",\n",
    "      \"pyex\",\n",
    "      \"full_str_int\",\n",
    "\n",
    "      \"snia\",\n",
    "      ]\n",
    "elif bench_selection == \"INT_CONVS\":\n",
    "  # Only benchmarks with to_int/from_int\n",
    "  BENCHES = [\n",
    "      \"stringfuzz\",\n",
    "      \"str_small_rw\",\n",
    "      \"full_str_int\",\n",
    "  ]\n",
    "elif bench_selection == \"QF_S\":\n",
    "  BENCHES = [\n",
    "      \"sygus_qgen\",\n",
    "      \"automatark\",\n",
    "\n",
    "      \"slog\",\n",
    "      \"woorpje\",\n",
    "  ]\n",
    "elif bench_selection == \"QF_SLIA\":\n",
    "  BENCHES = [\n",
    "      \"denghang\",\n",
    "      \"stringfuzz\",\n",
    "\n",
    "      \"norn\",\n",
    "      \"slent\",\n",
    "      \"transducer_plus\",\n",
    "      \"kepler\",\n",
    "      \"woorpje\",\n",
    "      \"webapp\",\n",
    "      \"kaluza\",\n",
    "      \"redos\",\n",
    "\n",
    "      \"leetcode\",\n",
    "      \"str_small_rw\",\n",
    "      \"pyex\",\n",
    "      \"full_str_int\",\n",
    "  ]\n",
    "elif bench_selection == \"QF_SNIA\":\n",
    "  BENCHES = [\n",
    "    \"snia\"\n",
    "  ]\n",
    "elif bench_selection == \"ZALIGVINDER\":\n",
    "  BENCHES = [\n",
    "    \"zaligvinder\"\n",
    "  ]\n",
    "elif bench_selection == \"REGEX\":\n",
    "  BENCHES = [\n",
    "    \"regex\"\n",
    "  ]"
   ]
  },
  {
   "cell_type": "code",
   "execution_count": 7,
   "metadata": {},
   "outputs": [],
   "source": [
    "df_all = load_benches(BENCHES, TOOLS, bench_selection)\n",
    "\n",
    "# TODO VBS are ugly for now, will fix it\n",
    "for vbs in VBS:\n",
    "  name = \"+\".join(vbs)\n",
    "  df_all = add_vbs(df_all, vbs, name)\n",
    "  TOOLS.append(name)\n",
    "  # tool_names_mapping[name] = \" + \".join([tool_names_mapping[tool] for tool in vbs])"
   ]
  },
  {
   "cell_type": "markdown",
   "metadata": {},
   "source": [
    "### Evaluation"
   ]
  },
  {
   "cell_type": "code",
   "execution_count": null,
   "metadata": {},
   "outputs": [],
   "source": [
    "print(simple_table(df_all, TOOLS, BENCHES, separately=False))\n",
    "print(simple_table(df_all, TOOLS, BENCHES, separately=True))"
   ]
  },
  {
   "cell_type": "code",
   "execution_count": null,
   "metadata": {},
   "outputs": [],
   "source": [
    "TOOL_FOR_COMPARISON = NOODLER\n",
    "# TOOL_FOR_COMPARISON = NOODLER_MODEL\n",
    "# TOOL_FOR_COMPARISON = NOODLER_CHECK_MODEL\n",
    "# TOOL_FOR_COMPARISON = "
   ]
  },
  {
   "cell_type": "code",
   "execution_count": null,
   "metadata": {},
   "outputs": [],
   "source": [
    "cactus_plot(df_all, TOOLS, start=int(len(df_all)*0.95), height=2, width=16, put_legend_outside=False, logarithmic_y_axis=True,\n",
    "                  # tool_names=tool_names_mapping,\n",
    "                  # file_name_to_save=\"cactus\",\n",
    "                  # num_of_x_ticks=6,\n",
    "                )\n",
    "\n",
    "for tool in TOOLS:\n",
    "    if tool != TOOL_FOR_COMPARISON:\n",
    "        print(scatter_plot(df_all, TOOL_FOR_COMPARISON, tool,\n",
    "                          #  xname=tool_names_mapping[NOODLER], yname=tool_names_mapping[tool],\n",
    "                          #  file_name_to_save=f\"{tool_names_mapping[tool]}_vs_{tool_names_mapping[NOODLER]}\", show_legend=False, transparent=True\n",
    "                           ))\n"
   ]
  },
  {
   "cell_type": "markdown",
   "metadata": {},
   "source": [
    "### More detailed evaluation"
   ]
  },
  {
   "cell_type": "code",
   "execution_count": null,
   "metadata": {},
   "outputs": [],
   "source": [
    "# check if noodler does not return different result than other solvers (i.e. wrong sat/unsat)\n",
    "sanity_check(df_all, TOOL_FOR_COMPARISON, [tool for tool in TOOLS if tool!=TOOL_FOR_COMPARISON])"
   ]
  },
  {
   "cell_type": "code",
   "execution_count": null,
   "metadata": {},
   "outputs": [],
   "source": [
    "# get all formulae where noodler gives different result than sat/unsat/unknown/TO/ERR\n",
    "get_invalid(df_all, TOOL_FOR_COMPARISON)"
   ]
  },
  {
   "cell_type": "code",
   "execution_count": null,
   "metadata": {},
   "outputs": [],
   "source": [
    "get_errors(df_all, TOOL_FOR_COMPARISON)"
   ]
  },
  {
   "cell_type": "code",
   "execution_count": null,
   "metadata": {},
   "outputs": [],
   "source": [
    "get_timeouts(df_all, TOOL_FOR_COMPARISON)"
   ]
  },
  {
   "cell_type": "code",
   "execution_count": null,
   "metadata": {},
   "outputs": [],
   "source": [
    "get_unknowns(df_all, TOOL_FOR_COMPARISON)"
   ]
  },
  {
   "cell_type": "code",
   "execution_count": null,
   "metadata": {},
   "outputs": [],
   "source": [
    "get_solved(df_all, TOOL_FOR_COMPARISON)"
   ]
  },
  {
   "cell_type": "code",
   "execution_count": null,
   "metadata": {},
   "outputs": [],
   "source": [
    "get_sat(df_all, TOOL_FOR_COMPARISON)"
   ]
  },
  {
   "cell_type": "code",
   "execution_count": null,
   "metadata": {},
   "outputs": [],
   "source": [
    "get_unsat(df_all, TOOL_FOR_COMPARISON)"
   ]
  },
  {
   "cell_type": "markdown",
   "metadata": {},
   "source": [
    "### TODO: For papers (tables and figures with nicer names or something) "
   ]
  },
  {
   "cell_type": "code",
   "execution_count": 37,
   "metadata": {},
   "outputs": [],
   "source": [
    "tool_names_mapping = {\n",
    "    NOODLER : \"Z3-Noodler\",\n",
    "    NOODLER_MODEL : \"Z3-Noodlerᴹ\",\n",
    "    CVC5 : \"cvc5\",\n",
    "    CVC5_MODEL : \"cvc5ᴹ\",\n",
    "    Z3 : \"Z3\",\n",
    "    Z3_MODEL : \"Z3ᴹ\",\n",
    "    Z3STR4 : \"Z3stsr4\",\n",
    "    OSTRICH : \"OSTRICH\",\n",
    "    Z3STR3RE : \"Z3str3RE\",\n",
    "    Z3TRAU : \"Z3-Trau\",\n",
    "    OLD_NOODLER : \"Z3-Noodler\",\n",
    "}\n",
    "\n",
    "tool_latex_mapping = {\n",
    "    NOODLER : \"\\\\ziiinoodler\",\n",
    "    CVC5 : \"\\\\cvcv\",\n",
    "    Z3 : \"\\\\ziii\",\n",
    "    NOODLER_MODEL : \"\\\\ziiinoodlermodel\",\n",
    "    CVC5_MODEL : \"\\\\cvcvmodel\",\n",
    "    Z3_MODEL : \"\\\\ziiimodel\",\n",
    "    Z3STR4 : \"\\\\ziiistriv\",\n",
    "    OSTRICH : \"\\\\ostrich\",\n",
    "    Z3STR3RE : \"\\\\ziiistriiire\",\n",
    "    Z3TRAU : \"\\\\ziiitrau\",\n",
    "    OLD_NOODLER : \"\\\\ziiinoodlerold\",\n",
    "}\n",
    "\n",
    "# TODO add table generation for latex"
   ]
  }
 ],
 "metadata": {
  "kernelspec": {
   "display_name": ".venv",
   "language": "python",
   "name": "python3"
  },
  "language_info": {
   "codemirror_mode": {
    "name": "ipython",
    "version": 3
   },
   "file_extension": ".py",
   "mimetype": "text/x-python",
   "name": "python",
   "nbconvert_exporter": "python",
   "pygments_lexer": "ipython3",
   "version": "3.11.7"
  }
 },
 "nbformat": 4,
 "nbformat_minor": 2
}
